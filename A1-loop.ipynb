{
 "cells": [
  {
   "cell_type": "markdown",
   "id": "3ad02112-6621-483c-a8e6-a2f791bb508e",
   "metadata": {},
   "source": [
    "# Assignment on loops\n",
    "1. Write a program which accepts month's name as input and display the number of days as output\n",
    "2. Take any words as input from the user and count the number of vowels in the words\n",
    "3. Write a program to separate even and odd nos in two distinct lists of numbers of your choice\n",
    "4. Write a program that appends data types of elements from a list to a separate list\n",
    "5. Write a program to displays only the nos from a list that satisfies the following conditions\n",
    "   - The number must be divisible by 7\n",
    "   - If the number is 140 then skip it and move to the next number in the list\n",
    "   - If the number in the list is greater than 630 then step the loop"
   ]
  },
  {
   "cell_type": "code",
   "execution_count": 13,
   "id": "2c7f9558-6289-473d-b378-bc8c9bb8a8af",
   "metadata": {},
   "outputs": [
    {
     "name": "stdin",
     "output_type": "stream",
     "text": [
      "Enter the name of the month: Janaury\n"
     ]
    },
    {
     "name": "stdout",
     "output_type": "stream",
     "text": [
      "30 days\n"
     ]
    }
   ],
   "source": [
    "# 1:\n",
    "month=input(\"Enter the name of the month:\")\n",
    "if month == [\"Janaury\",\"March\",\"May\",\"July\",\"October\",\"December\"]:\n",
    "    print(\"31 days\")\n",
    "else:\n",
    "     print(\"30 days\")\n",
    "\n"
   ]
  },
  {
   "cell_type": "code",
   "execution_count": null,
   "id": "6046b809-8b57-4741-b68d-60a89bebbb28",
   "metadata": {},
   "outputs": [],
   "source": [
    "# 2:\n",
    "def word(i)\n",
    "word=input(\"Enter the words:\")\n",
    "if word ==\"a\",\"e\",\"i\",\"o\",\"u\":\n",
    "   "
   ]
  },
  {
   "cell_type": "code",
   "execution_count": 27,
   "id": "d189fedb-21ca-4d6b-8604-cf85de0ba683",
   "metadata": {},
   "outputs": [
    {
     "name": "stdout",
     "output_type": "stream",
     "text": [
      "2 4 6 8 "
     ]
    }
   ],
   "source": [
    "# 3:Even Number\n",
    "num=[1,2,3,4,5,6,7,8,9]\n",
    "for i in num:\n",
    "    if i%2==0:\n",
    "        print(i,end=\" \")\n"
   ]
  },
  {
   "cell_type": "code",
   "execution_count": 31,
   "id": "e94a8a73-d991-487d-8c9b-2bef25faa5de",
   "metadata": {},
   "outputs": [
    {
     "name": "stdout",
     "output_type": "stream",
     "text": [
      "3 6 9 "
     ]
    }
   ],
   "source": [
    "# 3: Odd Number\n",
    "num=[1,2,3,4,5,6,7,8,9]\n",
    "for i in num:\n",
    "    if i%3==0:\n",
    "        print(i,end=\" \")"
   ]
  },
  {
   "cell_type": "code",
   "execution_count": 47,
   "id": "07aad107-c1f0-4ec3-b77a-c5f062e1bbdb",
   "metadata": {},
   "outputs": [
    {
     "data": {
      "text/plain": [
       "[1, 4, 6, 7, 9, [2, 5, 8]]"
      ]
     },
     "execution_count": 47,
     "metadata": {},
     "output_type": "execute_result"
    }
   ],
   "source": [
    "# 4:\n",
    "list=[1,4,6,7,9]\n",
    "list.append([2,5,8])\n",
    "list"
   ]
  },
  {
   "cell_type": "code",
   "execution_count": 49,
   "id": "7b1d45c9-4d22-4df2-84b6-6e12f4a1d432",
   "metadata": {},
   "outputs": [
    {
     "name": "stdout",
     "output_type": "stream",
     "text": [
      "70\n",
      "350\n"
     ]
    }
   ],
   "source": [
    "# 5:\n",
    "list=[70,180,240,300,350,600,650,780]\n",
    "# 5.1:\n",
    "for i in list:\n",
    "    if i%7==0:\n",
    "        print(i)\n"
   ]
  },
  {
   "cell_type": "code",
   "execution_count": 53,
   "id": "63e4a6b5-4db6-46eb-bd1e-51e8e4c22fc5",
   "metadata": {},
   "outputs": [
    {
     "name": "stdout",
     "output_type": "stream",
     "text": [
      "70 180 240 300 350 600 650 780 "
     ]
    }
   ],
   "source": [
    "# 5.2:\n",
    "for i in list:\n",
    "    if i==140:\n",
    "        continue\n",
    "    print(i,end=\" \")"
   ]
  },
  {
   "cell_type": "code",
   "execution_count": 57,
   "id": "e176ed24-e4a7-43c7-b7ae-a1c38a859d26",
   "metadata": {},
   "outputs": [
    {
     "name": "stdout",
     "output_type": "stream",
     "text": [
      "70 180 240 300 350 600 "
     ]
    }
   ],
   "source": [
    "# 5.3:\n",
    "for i in list:\n",
    "    if i>630:\n",
    "        break\n",
    "    print(i,end=\" \")"
   ]
  }
 ],
 "metadata": {
  "kernelspec": {
   "display_name": "Python 3 (ipykernel)",
   "language": "python",
   "name": "python3"
  },
  "language_info": {
   "codemirror_mode": {
    "name": "ipython",
    "version": 3
   },
   "file_extension": ".py",
   "mimetype": "text/x-python",
   "name": "python",
   "nbconvert_exporter": "python",
   "pygments_lexer": "ipython3",
   "version": "3.12.4"
  }
 },
 "nbformat": 4,
 "nbformat_minor": 5
}
