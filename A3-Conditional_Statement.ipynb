{
 "cells": [
  {
   "cell_type": "markdown",
   "id": "0dc53e93-1ebb-4845-95f3-76e73bdd4b4c",
   "metadata": {},
   "source": [
    "# Assignment of Conditional Statement\n",
    "1.Take three numbers x,y and z as input from the user and check which number is greater"
   ]
  },
  {
   "cell_type": "code",
   "execution_count": 11,
   "id": "17cf9978-4fd8-49aa-91a7-439ddbc0cdc6",
   "metadata": {},
   "outputs": [
    {
     "name": "stdin",
     "output_type": "stream",
     "text": [
      "Enter the value of x: 6\n",
      "Enter the value of y: 4\n",
      "Enter the value of z: 3\n"
     ]
    },
    {
     "name": "stdout",
     "output_type": "stream",
     "text": [
      "x is the greater number.\n"
     ]
    }
   ],
   "source": [
    "x=int(input(\"Enter the value of x:\"))\n",
    "y=int(input(\"Enter the value of y:\"))\n",
    "z=int(input(\"Enter the value of z:\"))\n",
    "if y<x>z:\n",
    "    print(\"x is the greater number.\")\n",
    "elif x<y>z:\n",
    "    print(\"Y is the greater number.\")\n",
    "else:\n",
    "    print(\"z is the greater number.\")\n",
    "      \n",
    "    "
   ]
  },
  {
   "cell_type": "markdown",
   "id": "1628c30c-73e2-4e20-ac25-8f61084beb4f",
   "metadata": {},
   "source": [
    "# \n",
    "2. Take an alphabet as input from the user and check if the alphabaet is a vowel, consonant or an exception\n",
    "vowel=\"a\",\"e\",\"i\",\"o\",\"u\"\n",
    "exception=\"h\",\"y\"\n",
    "consonant=rest other alphabet"
   ]
  },
  {
   "cell_type": "code",
   "execution_count": 33,
   "id": "63e32fec-5c90-46eb-8a8a-bd9a1f87e8ff",
   "metadata": {},
   "outputs": [
    {
     "name": "stdin",
     "output_type": "stream",
     "text": [
      "Enter the alphabet t\n"
     ]
    },
    {
     "name": "stdout",
     "output_type": "stream",
     "text": [
      "It is a vowel letter\n"
     ]
    }
   ],
   "source": [
    "alphabet=input(\"Enter the alphabet\")\n",
    "for letter in alphabet:\n",
    "    if letter:=(\"a\",\"e\",\"i\",\"o\",\"u\"):\n",
    "        print(\"It is a vowel letter\")\n",
    "    elif letter:=(\"h\",\"y\"):\n",
    "        print(\"It is a exceptional letter.\")\n",
    "    else:\n",
    "        print(\"It is a consonant letter\")\n",
    "   \n",
    "    \n"
   ]
  },
  {
   "cell_type": "markdown",
   "id": "8fd339c3-bd3f-483d-a8fd-37365fbacffc",
   "metadata": {},
   "source": [
    "#\n",
    "3.Write a program to check whether a numnber given by a user is divisible by 2 and 3"
   ]
  },
  {
   "cell_type": "code",
   "execution_count": 45,
   "id": "ed221726-486f-49c4-bbe8-d4a94b23474e",
   "metadata": {},
   "outputs": [
    {
     "name": "stdin",
     "output_type": "stream",
     "text": [
      "Enter the number: 7\n"
     ]
    },
    {
     "name": "stdout",
     "output_type": "stream",
     "text": [
      "Not divible by both 2 and 3\n"
     ]
    }
   ],
   "source": [
    "num=int(input(\"Enter the number:\"))\n",
    "if num%2==0:\n",
    "        print(\"It is divisible by 2\")\n",
    "elif num%3==0:\n",
    "        print(\"It is divisible by 3\")\n",
    "else:\n",
    "        print(\"Not divible by both 2 and 3\")\n"
   ]
  },
  {
   "cell_type": "markdown",
   "id": "272d2c9d-df86-4d25-93a2-1cc5594f7e61",
   "metadata": {},
   "source": [
    "#\n",
    "4. Write a program to accept the cost price of a bike as input and display the road tax to be paid according to the following criteria\n",
    "- CP=100000 Tax-15%\n",
    "- CP=Between 50000 to 100000-10%\n",
    "- CP=Less than 50000 Tax-5%"
   ]
  },
  {
   "cell_type": "code",
   "execution_count": 57,
   "id": "67b5a9f0-3c3e-48bf-94eb-4721db1de1c1",
   "metadata": {},
   "outputs": [
    {
     "name": "stdin",
     "output_type": "stream",
     "text": [
      "Enter the price of the bike: 50000\n"
     ]
    },
    {
     "name": "stdout",
     "output_type": "stream",
     "text": [
      "Your Tax is: 2500.0\n"
     ]
    }
   ],
   "source": [
    "CP=int(input(\"Enter the price of the bike:\"))\n",
    "if CP==100000:\n",
    "       print(\"Your Tax is:\",CP*15/100)\n",
    "elif 100000<CP>50000:\n",
    "    print(\"Your Tax is:\",CP*10/100)\n",
    "else:\n",
    "    print(\"Your Tax is:\",CP*5/100)\n",
    "\n",
    "        "
   ]
  },
  {
   "cell_type": "markdown",
   "id": "42135983-57c7-45fd-b184-12abe534ec50",
   "metadata": {},
   "source": [
    "#\n",
    "5. Write a program to calculate the electricity bill by accepting the number of units consumed by the user as input. Use the following price chart for references\n",
    "   - Price of first 100 units- no charge\n",
    "   - Price of next 100 units- Rs 5 per/unit\n",
    "   - After 200 units- Rs 10-per/unit"
   ]
  },
  {
   "cell_type": "code",
   "execution_count": 78,
   "id": "d88e204a-1b47-4430-af24-09563584299a",
   "metadata": {},
   "outputs": [
    {
     "name": "stdin",
     "output_type": "stream",
     "text": [
      "Enter the units: 500\n"
     ]
    },
    {
     "name": "stdout",
     "output_type": "stream",
     "text": [
      "Rs 10 per/unit\n"
     ]
    }
   ],
   "source": [
    "unit=int(input(\"Enter the units:\"))\n",
    "if unit<=100:\n",
    "         print(\"No charge for the first 100 units\")\n",
    "elif unit<200:\n",
    "        print(\"Rs 5 per/unit\")\n",
    "else:\n",
    "        print(\"Rs 10 per/unit\")"
   ]
  }
 ],
 "metadata": {
  "kernelspec": {
   "display_name": "Python 3 (ipykernel)",
   "language": "python",
   "name": "python3"
  },
  "language_info": {
   "codemirror_mode": {
    "name": "ipython",
    "version": 3
   },
   "file_extension": ".py",
   "mimetype": "text/x-python",
   "name": "python",
   "nbconvert_exporter": "python",
   "pygments_lexer": "ipython3",
   "version": "3.12.4"
  }
 },
 "nbformat": 4,
 "nbformat_minor": 5
}
