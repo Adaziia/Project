{
 "cells": [
  {
   "cell_type": "markdown",
   "id": "6353ec71-080e-492b-87f8-44529de838f6",
   "metadata": {},
   "source": [
    "# Python test\n"
   ]
  },
  {
   "cell_type": "code",
   "execution_count": 143,
   "id": "32c6f875-2a3b-4070-8816-9a24f7e56b1b",
   "metadata": {},
   "outputs": [
    {
     "name": "stdout",
     "output_type": "stream",
     "text": [
      "2\n"
     ]
    }
   ],
   "source": [
    "# 1.\n",
    "x=2\n",
    "y=4\n",
    "for i in range(x,y):\n",
    "   if i==3:\n",
    "     continue\n",
    "   elif i==4:\n",
    "     break\n",
    "   else:\n",
    "       print(i)"
   ]
  },
  {
   "cell_type": "code",
   "execution_count": 144,
   "id": "83598c99-5626-4091-a10e-8287a2480868",
   "metadata": {},
   "outputs": [
    {
     "name": "stdout",
     "output_type": "stream",
     "text": [
      "9\n"
     ]
    }
   ],
   "source": [
    "# 2.\n",
    "x=4\n",
    "y=10\n",
    "while x>y:\n",
    "    x-=1\n",
    "    y+=1\n",
    "else:\n",
    "    y-=1\n",
    "print(y) "
   ]
  },
  {
   "cell_type": "code",
   "execution_count": 145,
   "id": "cfb724e9-e8be-4642-afe3-a090abe72c48",
   "metadata": {},
   "outputs": [
    {
     "name": "stdout",
     "output_type": "stream",
     "text": [
      "-3\n"
     ]
    }
   ],
   "source": [
    "# 3.\n",
    "x=3\n",
    "y=6\n",
    "if x<y:\n",
    "  if y>10:\n",
    "    z=x+y\n",
    "  else:\n",
    "   z=x-y\n",
    "else:\n",
    " z=x*y\n",
    "print(z)\n",
    "    "
   ]
  },
  {
   "cell_type": "code",
   "execution_count": 146,
   "id": "a443d3aa-b62f-4a59-9fe3-bb313e18562f",
   "metadata": {},
   "outputs": [
    {
     "name": "stdout",
     "output_type": "stream",
     "text": [
      "2\n"
     ]
    }
   ],
   "source": [
    "# 4.\n",
    "x=5\n",
    "y=3\n",
    "if x<y:\n",
    "   z=x+y\n",
    "elif x>y:\n",
    "   z=x-y\n",
    "else:\n",
    "   z=x*y\n",
    "print(z)"
   ]
  },
  {
   "cell_type": "code",
   "execution_count": 147,
   "id": "3d5ed5ca-3a3b-4ff7-866c-5e90b75cc831",
   "metadata": {},
   "outputs": [
    {
     "name": "stdout",
     "output_type": "stream",
     "text": [
      "5\n",
      "7\n"
     ]
    }
   ],
   "source": [
    "# 5.\n",
    "x=4\n",
    "y=8\n",
    "for i in range(x,y):\n",
    "   if i%2==0:\n",
    "     continue \n",
    "   else:\n",
    "      print(i)\n"
   ]
  },
  {
   "cell_type": "code",
   "execution_count": 148,
   "id": "e7d5ae88-ae07-4199-a8e3-1102d303dd1e",
   "metadata": {},
   "outputs": [
    {
     "name": "stdout",
     "output_type": "stream",
     "text": [
      "8\n"
     ]
    }
   ],
   "source": [
    "# 6.\n",
    "x=5\n",
    "y=3\n",
    "if x>y:\n",
    "  z=x+y\n",
    "elif x<y:\n",
    "  z=x-y\n",
    "else:\n",
    "  z=x*y\n",
    "print(z)"
   ]
  },
  {
   "cell_type": "code",
   "execution_count": 149,
   "id": "9ca2b667-b8b0-485d-baea-efc56284f990",
   "metadata": {},
   "outputs": [
    {
     "name": "stdout",
     "output_type": "stream",
     "text": [
      "[1, 2, 3, 4, 5, 6, 7]\n"
     ]
    }
   ],
   "source": [
    "# 7.\n",
    "list=[1,2,3,4,5]\n",
    "list.extend([6,7])\n",
    "print(list)\n"
   ]
  },
  {
   "cell_type": "code",
   "execution_count": 150,
   "id": "da294aa7-5e13-4dee-828c-aecf9f158555",
   "metadata": {},
   "outputs": [
    {
     "name": "stdout",
     "output_type": "stream",
     "text": [
      "(1, 2, 3, 4, 5, 6)\n"
     ]
    }
   ],
   "source": [
    "# 8.\n",
    "tuple=(1,2,3)\n",
    "my_tuple=tuple+(4,5,6)\n",
    "print(my_tuple)"
   ]
  },
  {
   "cell_type": "code",
   "execution_count": 151,
   "id": "44a41230-e249-4e35-abda-dc76e2860b05",
   "metadata": {},
   "outputs": [
    {
     "name": "stdout",
     "output_type": "stream",
     "text": [
      "[5, 4, 3, 2, 1]\n"
     ]
    }
   ],
   "source": [
    "# 9.\n",
    "my_list=[1,2,3,4,5]\n",
    "my_list.sort(reverse=True)\n",
    "print(my_list)"
   ]
  },
  {
   "cell_type": "code",
   "execution_count": 152,
   "id": "4432de99-5c96-4f99-9bbd-8755ac715be7",
   "metadata": {},
   "outputs": [
    {
     "data": {
      "text/plain": [
       "[2, 3]"
      ]
     },
     "execution_count": 152,
     "metadata": {},
     "output_type": "execute_result"
    }
   ],
   "source": [
    "# 10.\n",
    "my_list=[1,2,3,4,5]\n",
    "my_list[1:3]\n"
   ]
  },
  {
   "cell_type": "code",
   "execution_count": 153,
   "id": "cd00f582-8259-4a67-9769-f07329a8b87c",
   "metadata": {},
   "outputs": [
    {
     "ename": "SyntaxError",
     "evalue": "cannot assign to function call here. Maybe you meant '==' instead of '='? (1264502957.py, line 3)",
     "output_type": "error",
     "traceback": [
      "\u001b[1;36m  Cell \u001b[1;32mIn[153], line 3\u001b[1;36m\u001b[0m\n\u001b[1;33m    tuple(1)=10\u001b[0m\n\u001b[1;37m    ^\u001b[0m\n\u001b[1;31mSyntaxError\u001b[0m\u001b[1;31m:\u001b[0m cannot assign to function call here. Maybe you meant '==' instead of '='?\n"
     ]
    }
   ],
   "source": [
    "# 11.\n",
    "tuple=(1,2,3,4,5)\n",
    "tuple(1)=10\n",
    "print(tuple)"
   ]
  },
  {
   "cell_type": "code",
   "execution_count": 175,
   "id": "51c10483-0c20-4c2d-90cd-0d368c861722",
   "metadata": {},
   "outputs": [
    {
     "name": "stdout",
     "output_type": "stream",
     "text": [
      "(1, 2, 3, 4, 5, 1, 2, 3, 4, 5, 1, 2, 3, 4, 5)\n"
     ]
    }
   ],
   "source": [
    "# 12.\n",
    "tuple=(1,2,3,4,5)\n",
    "repeated_tuple=tuple*3\n",
    "print(repeated_tuple)\n"
   ]
  },
  {
   "cell_type": "code",
   "execution_count": 177,
   "id": "ff36edc7-e2bb-4f91-9a03-9d15b6f784a0",
   "metadata": {},
   "outputs": [
    {
     "name": "stdout",
     "output_type": "stream",
     "text": [
      "(1, 2, 3, 4)\n"
     ]
    }
   ],
   "source": [
    "# 13.\n",
    "tuple=(1,2,3)\n",
    "my_tuple=tuple+(4,)\n",
    "print(my_tuple)"
   ]
  },
  {
   "cell_type": "code",
   "execution_count": 179,
   "id": "c5351aec-eb8e-4c79-8aeb-dad6b2ac6492",
   "metadata": {},
   "outputs": [
    {
     "data": {
      "text/plain": [
       "15"
      ]
     },
     "execution_count": 179,
     "metadata": {},
     "output_type": "execute_result"
    }
   ],
   "source": [
    "# 14. \n",
    "tuple=(1,2,3,4,5)\n",
    "sum(tuple)"
   ]
  },
  {
   "cell_type": "code",
   "execution_count": 181,
   "id": "81ce5597-5959-44f2-8f9e-8d302d7a3180",
   "metadata": {},
   "outputs": [
    {
     "name": "stdout",
     "output_type": "stream",
     "text": [
      "[1, 2, 4, 5]\n"
     ]
    }
   ],
   "source": [
    "# 15.\n",
    "list=[1,2,3,4,5]\n",
    "del list[2]\n",
    "print(list)"
   ]
  },
  {
   "cell_type": "code",
   "execution_count": 183,
   "id": "d8f45915-3b7e-4f8a-9e9f-46f010db9d78",
   "metadata": {},
   "outputs": [
    {
     "name": "stdout",
     "output_type": "stream",
     "text": [
      "[1, 2, 4, 5]\n"
     ]
    }
   ],
   "source": [
    "# 16.\n",
    "list=[1,2,3,4,5]\n",
    "list.remove(3)\n",
    "print(list)"
   ]
  },
  {
   "cell_type": "code",
   "execution_count": 185,
   "id": "5fe2ad32-2fd0-414c-abf2-f623191e8e6a",
   "metadata": {},
   "outputs": [
    {
     "name": "stdout",
     "output_type": "stream",
     "text": [
      "[1, 2, 10, 3, 4, 5]\n"
     ]
    }
   ],
   "source": [
    "# 17.\n",
    "list=[1,2,3,4,5]\n",
    "list.insert(2,10)\n",
    "print(list)"
   ]
  },
  {
   "cell_type": "code",
   "execution_count": 187,
   "id": "b97f5e6f-168d-4a32-8c82-214d11556757",
   "metadata": {},
   "outputs": [
    {
     "name": "stdout",
     "output_type": "stream",
     "text": [
      "(3, 4)\n"
     ]
    }
   ],
   "source": [
    "# 18.\n",
    "tuple=(1,2,3,4,5)\n",
    "my_tuple=tuple[-3:-1]\n",
    "print(my_tuple)"
   ]
  },
  {
   "cell_type": "code",
   "execution_count": 189,
   "id": "94b67924-524a-4f8c-bd88-fbfb38c81211",
   "metadata": {},
   "outputs": [
    {
     "name": "stdout",
     "output_type": "stream",
     "text": [
      "(5, 4, 3, 2, 1)\n"
     ]
    }
   ],
   "source": [
    "# 19.\n",
    "tuple=(1,2,3,4,5)\n",
    "my_tuple=tuple[::-1]\n",
    "print(my_tuple)"
   ]
  },
  {
   "cell_type": "code",
   "execution_count": 191,
   "id": "cfaad928-5298-415f-89b2-a470fc0f19db",
   "metadata": {},
   "outputs": [
    {
     "name": "stdout",
     "output_type": "stream",
     "text": [
      "[1, 2, 3, 4, 5, 1, 2, 3, 4, 5]\n"
     ]
    }
   ],
   "source": [
    "# 20.\n",
    "list=[1,2,3,4,5]\n",
    "my_list=list*2\n",
    "print(my_list)"
   ]
  },
  {
   "cell_type": "code",
   "execution_count": 193,
   "id": "444d2018-2a73-4335-acad-0209787777af",
   "metadata": {},
   "outputs": [
    {
     "name": "stdout",
     "output_type": "stream",
     "text": [
      "9\n"
     ]
    }
   ],
   "source": [
    "# 21.\n",
    "x=3 \n",
    "y=6\n",
    "while x<y:\n",
    "  if y%2==0:\n",
    "     x+=y\n",
    "  else:\n",
    "     x=y\n",
    "print(x)"
   ]
  },
  {
   "cell_type": "code",
   "execution_count": 39,
   "id": "fbfeefb2-6fbf-4698-b894-55500d8fdec0",
   "metadata": {},
   "outputs": [],
   "source": [
    "def count_vowels(word):\n",
    "    vowels=\"aeiou\"\n",
    "    count=0\n",
    "    for letter in word:\n",
    "        if letter.lower() in vowels:\n",
    "            count += 1\n",
    "        print(\"Number of vowels:\",count)\n"
   ]
  },
  {
   "cell_type": "code",
   "execution_count": 41,
   "id": "71946dbe-aaa3-44e3-9230-579edf4df979",
   "metadata": {},
   "outputs": [
    {
     "name": "stdout",
     "output_type": "stream",
     "text": [
      "Number of vowels: 0\n",
      "Number of vowels: 1\n",
      "Number of vowels: 1\n",
      "Number of vowels: 1\n",
      "Number of vowels: 2\n",
      "Number of vowels: 2\n",
      "Number of vowels: 2\n",
      "Number of vowels: 3\n",
      "Number of vowels: 3\n",
      "Number of vowels: 3\n",
      "Number of vowels: 3\n"
     ]
    }
   ],
   "source": [
    "count_vowels(\"Hello World\")"
   ]
  },
  {
   "cell_type": "code",
   "execution_count": 43,
   "id": "b9e9becf-6b8a-43d4-bd19-274f26c375cf",
   "metadata": {},
   "outputs": [],
   "source": [
    "# 23.\n",
    "def calculate_average(nums):\n",
    "    return sum(nums)/len(nums)   "
   ]
  },
  {
   "cell_type": "code",
   "execution_count": 45,
   "id": "543468f8-e5e0-409e-861e-af2ba8f710b0",
   "metadata": {},
   "outputs": [
    {
     "name": "stdout",
     "output_type": "stream",
     "text": [
      "3.0\n"
     ]
    }
   ],
   "source": [
    "print(calculate_average([1,2,3,4,5]))"
   ]
  },
  {
   "cell_type": "code",
   "execution_count": 47,
   "id": "c1611219-834b-4ba0-98b6-984f1f7a200f",
   "metadata": {},
   "outputs": [],
   "source": [
    "# 24.\n",
    "def find_avg(nums):\n",
    "    positive_nums=[num for num in nums if num>0]\n",
    "    return sum(positive_nums)/len(positive_nums)\n"
   ]
  },
  {
   "cell_type": "code",
   "execution_count": 51,
   "id": "ec1ea424-7f73-4b96-9626-934fb2d0dc7d",
   "metadata": {},
   "outputs": [
    {
     "name": "stdout",
     "output_type": "stream",
     "text": [
      "3.0\n"
     ]
    }
   ],
   "source": [
    "print(find_avg([-1,2,-3,4,-5]))"
   ]
  },
  {
   "cell_type": "code",
   "execution_count": 71,
   "id": "eed5ea1d-d45b-4906-9041-bd1750ed543e",
   "metadata": {},
   "outputs": [],
   "source": [
    "# 25\n",
    "def modify_list(list,new_list):\n",
    "    list.append(new_list)\n",
    "    return list"
   ]
  },
  {
   "cell_type": "code",
   "execution_count": 73,
   "id": "2594f171-bb60-46b1-ad7e-6618a04444a3",
   "metadata": {},
   "outputs": [
    {
     "name": "stdout",
     "output_type": "stream",
     "text": [
      "[1, 2, 3, 4]\n"
     ]
    }
   ],
   "source": [
    "print(modify_list([1,2,3],4))"
   ]
  },
  {
   "cell_type": "code",
   "execution_count": 85,
   "id": "48e1bcc0-bb8d-40bd-867f-6863ed9dd580",
   "metadata": {},
   "outputs": [],
   "source": [
    "# 26.\n",
    "def remove_duplicates(string):\n",
    "    unique_char=[]\n",
    "    for char in string:\n",
    "        if char not in unique_char:\n",
    "            unique_char.append(char)\n",
    "            return (unique_char)\n",
    " "
   ]
  },
  {
   "cell_type": "code",
   "execution_count": 87,
   "id": "34d3b3f2-f31e-431d-8782-f6ceadfa89ff",
   "metadata": {},
   "outputs": [
    {
     "data": {
      "text/plain": [
       "['a']"
      ]
     },
     "execution_count": 87,
     "metadata": {},
     "output_type": "execute_result"
    }
   ],
   "source": [
    "remove_duplicates(\"abracadabra\")"
   ]
  },
  {
   "cell_type": "code",
   "execution_count": 208,
   "id": "96bb219b-da02-4e53-b535-44faf94f5041",
   "metadata": {},
   "outputs": [
    {
     "name": "stdout",
     "output_type": "stream",
     "text": [
      "False\n"
     ]
    }
   ],
   "source": [
    "# 27.\n",
    "x=4\n",
    "result=x>5\n",
    "print(result)"
   ]
  },
  {
   "cell_type": "code",
   "execution_count": 206,
   "id": "7cbe2015-3f8b-4b33-b162-b69fd2c62792",
   "metadata": {},
   "outputs": [
    {
     "name": "stdout",
     "output_type": "stream",
     "text": [
      "yh\n"
     ]
    }
   ],
   "source": [
    "# 28.\n",
    "x=\"Python\"\n",
    "result=x[1:5:2]\n",
    "print(result)"
   ]
  },
  {
   "cell_type": "code",
   "execution_count": 204,
   "id": "52c3b127-6be6-4742-b2b1-9bdcc4eb2336",
   "metadata": {},
   "outputs": [
    {
     "name": "stdout",
     "output_type": "stream",
     "text": [
      "True\n"
     ]
    }
   ],
   "source": [
    "# 29.\n",
    "x==\"True\",y==\"False\"\n",
    "result=\"True\" or \"False\"\n",
    "print(result)"
   ]
  },
  {
   "cell_type": "code",
   "execution_count": 202,
   "id": "d88c1d48-4d61-426f-9722-d3061d93a8e3",
   "metadata": {},
   "outputs": [
    {
     "name": "stdout",
     "output_type": "stream",
     "text": [
      "52\n"
     ]
    }
   ],
   "source": [
    "# 30. \n",
    "x=5\n",
    "y=\"2\"\n",
    "result=str(x)+y\n",
    "print(result)"
   ]
  }
 ],
 "metadata": {
  "kernelspec": {
   "display_name": "Python 3 (ipykernel)",
   "language": "python",
   "name": "python3"
  },
  "language_info": {
   "codemirror_mode": {
    "name": "ipython",
    "version": 3
   },
   "file_extension": ".py",
   "mimetype": "text/x-python",
   "name": "python",
   "nbconvert_exporter": "python",
   "pygments_lexer": "ipython3",
   "version": "3.12.4"
  }
 },
 "nbformat": 4,
 "nbformat_minor": 5
}
