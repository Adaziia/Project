{
 "cells": [
  {
   "cell_type": "markdown",
   "id": "796082d1-4e6f-411e-aeb0-4f821d8b88ca",
   "metadata": {},
   "source": [
    "# Assignment for function\n",
    "1.Define a function that accepts a number and returns whether the number is even or odd"
   ]
  },
  {
   "cell_type": "code",
   "execution_count": 54,
   "id": "2cae63ec-e0b0-45a4-82ed-c596271a96f3",
   "metadata": {},
   "outputs": [],
   "source": [
    "def number(num):\n",
    "  if num%2==0:\n",
    "        print(\"Even number\")\n",
    "  else:\n",
    "        print(\"Odd number\")\n"
   ]
  },
  {
   "cell_type": "code",
   "execution_count": 55,
   "id": "fbc235f7-5957-4822-b322-50323bb8ba06",
   "metadata": {},
   "outputs": [
    {
     "name": "stdout",
     "output_type": "stream",
     "text": [
      "Odd number\n"
     ]
    }
   ],
   "source": [
    "number(5)"
   ]
  },
  {
   "cell_type": "markdown",
   "id": "df69919c-8336-4ab0-a2ed-610167d82ed4",
   "metadata": {},
   "source": [
    "# \n",
    "2. Define a function to create and print a list where the values are square of numbers between 1 and 30(both included)"
   ]
  },
  {
   "cell_type": "code",
   "execution_count": 71,
   "id": "452ebf91-7590-4540-8d24-899789d84024",
   "metadata": {},
   "outputs": [],
   "source": [
    "def list(num):\n",
    "  for num in range(1,30):\n",
    "    square=num**2\n",
    "    print(square,end=\" \")    "
   ]
  },
  {
   "cell_type": "code",
   "execution_count": 89,
   "id": "befe064e-37f7-421b-bc36-03645efb1b28",
   "metadata": {},
   "outputs": [
    {
     "name": "stdout",
     "output_type": "stream",
     "text": [
      "1 4 9 16 25 36 49 64 81 100 121 144 169 196 225 256 289 324 361 400 441 484 529 576 625 676 729 784 841 "
     ]
    }
   ],
   "source": [
    "list(30)"
   ]
  },
  {
   "cell_type": "markdown",
   "id": "c3c3192d-ad3f-4b73-b60d-4baef8a5f158",
   "metadata": {},
   "source": [
    "#\n",
    "3. Define a function shut-down, that takes one parameter. Then, if the shut-down function receives a vlue equal to \"yes\" it should be print \"shutting down\". Alternatively, if value is equal to \"no\", then the function should print \"sorry\""
   ]
  },
  {
   "cell_type": "code",
   "execution_count": 77,
   "id": "f8db8ff3-4977-41de-8e1b-7c5dcd8f6fbb",
   "metadata": {},
   "outputs": [],
   "source": [
    "def Shut_down(value):\n",
    "  if value==\"yes\":\n",
    "    print(\"Shutting down\")\n",
    "  else:\n",
    "    print(\"Sorry\")"
   ]
  },
  {
   "cell_type": "code",
   "execution_count": 79,
   "id": "5da74d04-7124-4b3f-966a-6c6c7f7b5935",
   "metadata": {},
   "outputs": [
    {
     "name": "stdout",
     "output_type": "stream",
     "text": [
      "Sorry\n"
     ]
    }
   ],
   "source": [
    "Shut_down(\"no\")"
   ]
  },
  {
   "cell_type": "markdown",
   "id": "ee0c418b-b4cd-4fb8-a6b5-c2d483384dda",
   "metadata": {},
   "source": [
    "#\n",
    "4.Define a function called \"by_three\" that takes a parameter called a number. If that number is divisible by 3,\"by_three\" should print the cube of the number. Otherwise \"by_three\"\" should print \"False\"."
   ]
  },
  {
   "cell_type": "code",
   "execution_count": 81,
   "id": "4867d5dc-9067-442b-9794-5aba2e8cb93a",
   "metadata": {},
   "outputs": [],
   "source": [
    "def by_three(number):\n",
    "    if number%3==0:\n",
    "        print(number**3)\n",
    "    else:\n",
    "        print(\"False\")\n",
    "    "
   ]
  },
  {
   "cell_type": "code",
   "execution_count": 83,
   "id": "ab63917b-613d-4548-995f-82581435cf76",
   "metadata": {},
   "outputs": [
    {
     "name": "stdout",
     "output_type": "stream",
     "text": [
      "27\n"
     ]
    }
   ],
   "source": [
    "by_three(3)"
   ]
  },
  {
   "cell_type": "markdown",
   "id": "914062dc-e6e7-41ac-9754-0a08f4644512",
   "metadata": {},
   "source": [
    "#\n",
    "5. Define a function that takes a list and prints a new with no duplicate element given a first list"
   ]
  },
  {
   "cell_type": "code",
   "execution_count": 85,
   "id": "4e992443-4518-454a-bb1d-a28c1588291d",
   "metadata": {},
   "outputs": [],
   "source": [
    "def remove_duplicates(input_list):\n",
    "    new_list=set(input_list)\n",
    "    print(new_list)"
   ]
  },
  {
   "cell_type": "code",
   "execution_count": 87,
   "id": "365274c5-876a-45d3-933d-7a9db8cffe40",
   "metadata": {},
   "outputs": [
    {
     "name": "stdout",
     "output_type": "stream",
     "text": [
      "{1, 2, 3, 4, 5}\n"
     ]
    }
   ],
   "source": [
    "remove_duplicates([1,1,2,2,3,3,4,4,5,5])"
   ]
  }
 ],
 "metadata": {
  "kernelspec": {
   "display_name": "Python 3 (ipykernel)",
   "language": "python",
   "name": "python3"
  },
  "language_info": {
   "codemirror_mode": {
    "name": "ipython",
    "version": 3
   },
   "file_extension": ".py",
   "mimetype": "text/x-python",
   "name": "python",
   "nbconvert_exporter": "python",
   "pygments_lexer": "ipython3",
   "version": "3.12.4"
  }
 },
 "nbformat": 4,
 "nbformat_minor": 5
}
